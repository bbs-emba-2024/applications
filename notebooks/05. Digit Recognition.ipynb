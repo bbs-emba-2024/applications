{
 "cells": [
  {
   "cell_type": "code",
   "execution_count": 44,
   "metadata": {
    "slideshow": {
     "slide_type": "skip"
    }
   },
   "outputs": [
    {
     "name": "stdout",
     "output_type": "stream",
     "text": [
      "The autoreload extension is already loaded. To reload it, use:\n",
      "  %reload_ext autoreload\n"
     ]
    }
   ],
   "source": [
    "# ============================================================\n",
    "# Notebook setup\n",
    "# ============================================================\n",
    "\n",
    "%load_ext autoreload\n",
    "%autoreload 2\n",
    "\n",
    "# Control figure size\n",
    "figsize=(16, 4.2)\n",
    "\n",
    "from util import util_dr as util\n",
    "from matplotlib import pyplot as plt\n",
    "import numpy as np\n",
    "from tensorflow import keras\n",
    "from sklearn.metrics import accuracy_score"
   ]
  },
  {
   "cell_type": "markdown",
   "metadata": {
    "slideshow": {
     "slide_type": "slide"
    }
   },
   "source": [
    "# Digit Recognition\n",
    "\n",
    "### Problem and Data"
   ]
  },
  {
   "cell_type": "markdown",
   "metadata": {
    "slideshow": {
     "slide_type": "subslide"
    }
   },
   "source": [
    "## Digit Recognition\n",
    "\n",
    "**We'll consider a simple digit recognition problem**\n",
    "\n",
    "<center>\n",
    "<img src=\"assets/mnist.png\" width=55%/>\n",
    "</center>\n",
    "\n",
    "* Given an image representing a digit, we need to recognition the represented number\n",
    "* This is an important building block for most OCR systems"
   ]
  },
  {
   "cell_type": "markdown",
   "metadata": {
    "slideshow": {
     "slide_type": "subslide"
    }
   },
   "source": [
    "## The Dataset\n",
    "\n",
    "**We will use the classic [MNIST Digit Recognition Dataset](http://yann.lecun.com/exdb/mnist/) dataset**\n",
    "\n",
    "The dataset contains hand-written digits\n",
    "\n",
    "* The original data was obtain from US Census Bureau and high-schools students\n",
    "* Each digit is represented as a $28 \\times 28$ greyscale image"
   ]
  },
  {
   "cell_type": "code",
   "execution_count": 22,
   "metadata": {},
   "outputs": [],
   "source": [
    "from keras.datasets import mnist\n",
    "# load the data, shuffled and split between train and test sets\n",
    "(x_train, y_train), (x_test, y_test) = mnist.load_data()"
   ]
  },
  {
   "cell_type": "markdown",
   "metadata": {},
   "source": [
    "The MNIST data is now stored in pairs of numpy arrays.\n",
    "\n",
    "* The `x_train` and `x_test` arrays contain the greyscale value of each pixel\n",
    "* The `y_train` and `y_test` arrays contain the class (digit) as an integer"
   ]
  },
  {
   "cell_type": "markdown",
   "metadata": {
    "slideshow": {
     "slide_type": "subslide"
    }
   },
   "source": [
    "## Image Data\n",
    "\n",
    "**Let's inspect the output**"
   ]
  },
  {
   "cell_type": "code",
   "execution_count": 23,
   "metadata": {},
   "outputs": [
    {
     "name": "stdout",
     "output_type": "stream",
     "text": [
      "Shape of y_train: (60000,)\n",
      "Shape of y_test: (10000,)\n"
     ]
    }
   ],
   "source": [
    "print(f'Shape of y_train: {y_train.shape}')\n",
    "print(f'Shape of y_test: {y_test.shape}')\n",
    "n_tr = y_train.shape[0]\n",
    "n_ts = y_test.shape[0]"
   ]
  },
  {
   "cell_type": "markdown",
   "metadata": {},
   "source": [
    "* There are 60,000 training examples\n",
    "* ...And 10,000 test examples\n",
    "\n",
    "**The target arrays are one-dimensional**\n",
    "\n",
    "Let's check a sample:"
   ]
  },
  {
   "cell_type": "code",
   "execution_count": 24,
   "metadata": {},
   "outputs": [
    {
     "data": {
      "text/plain": [
       "array([5, 0, 4, ..., 5, 6, 8], dtype=uint8)"
      ]
     },
     "execution_count": 24,
     "metadata": {},
     "output_type": "execute_result"
    }
   ],
   "source": [
    "y_train"
   ]
  },
  {
   "cell_type": "markdown",
   "metadata": {
    "slideshow": {
     "slide_type": "subslide"
    }
   },
   "source": [
    "## Image Data\n",
    "\n",
    "**Let's inspect the input**"
   ]
  },
  {
   "cell_type": "code",
   "execution_count": 25,
   "metadata": {},
   "outputs": [
    {
     "name": "stdout",
     "output_type": "stream",
     "text": [
      "Shape of x_train: (60000, 28, 28)\n",
      "Shape of x_test: (10000, 28, 28)\n"
     ]
    }
   ],
   "source": [
    "print(f'Shape of x_train: {x_train.shape}')\n",
    "print(f'Shape of x_test: {x_test.shape}')\n",
    "x_h = x_train.shape[1]\n",
    "x_w = x_train.shape[2]"
   ]
  },
  {
   "cell_type": "markdown",
   "metadata": {},
   "source": [
    "* The dataset input consists of 28x28 matrices"
   ]
  },
  {
   "cell_type": "code",
   "execution_count": 26,
   "metadata": {},
   "outputs": [
    {
     "name": "stdout",
     "output_type": "stream",
     "text": [
      "Minimum: 0 (train), 0 (test)\n",
      "Maximum: 255 (train), 255 (test)\n"
     ]
    }
   ],
   "source": [
    "print(f'Minimum: {x_train.min()} (train), {x_train.min()} (test)')\n",
    "print(f'Maximum: {x_train.max()} (train), {x_train.max()} (test)')"
   ]
  },
  {
   "cell_type": "markdown",
   "metadata": {},
   "source": [
    "* The content of the matrix cells ranges from 0 to 255\n",
    "* ...And it represents 8 bit brightness values"
   ]
  },
  {
   "cell_type": "markdown",
   "metadata": {
    "slideshow": {
     "slide_type": "subslide"
    }
   },
   "source": [
    "## Image Data\n",
    "\n",
    "**Let's see some sample images**"
   ]
  },
  {
   "cell_type": "code",
   "execution_count": 27,
   "metadata": {},
   "outputs": [
    {
     "data": {
      "image/png": "[encoded data removed]",
      "text/plain": [
       "<Figure size 1600x420 with 12 Axes>"
      ]
     },
     "metadata": {},
     "output_type": "display_data"
    }
   ],
   "source": [
    "m, n = 2, 6\n",
    "plt.figure(figsize=figsize)\n",
    "for i in range(m):\n",
    "    for j in range(n):\n",
    "        plt.subplot(m, n, i*n + j + 1)\n",
    "        plt.imshow(x_train[i*n + j], cmap='Greys')\n",
    "plt.show()"
   ]
  },
  {
   "cell_type": "markdown",
   "metadata": {
    "slideshow": {
     "slide_type": "slide"
    }
   },
   "source": [
    "# Digit Recognition\n",
    "\n",
    "### A Solution Approach"
   ]
  },
  {
   "cell_type": "markdown",
   "metadata": {
    "slideshow": {
     "slide_type": "subslide"
    }
   },
   "source": [
    "## Problem Model\n",
    "\n",
    "**This is a standard classification problem**\n",
    "\n",
    "...But it still best modeled in a probabilistic fashion\n",
    "\n",
    "* We can view the image as a random (vector) variable $X$\n",
    "* ...And the class a second random variable $Y$, with values in $\\{c_1, c_2, \\ldots c_{n}\\}$\n",
    "\n",
    "This the case for multiple reasons (e.g. labeling errors or ambiguous interpretation)"
   ]
  },
  {
   "cell_type": "markdown",
   "metadata": {},
   "source": [
    "**The two variables are correlated, which is captured via their joint distribution**\n",
    "\n",
    "$$X, Y \\sim P(X, Y)$$\n",
    "\n",
    "...But in practice, we are assuming $X$ is observed, so we care about the conditional distribution:\n",
    "\n",
    "$$P(Y \\mid X)$$"
   ]
  },
  {
   "cell_type": "markdown",
   "metadata": {
    "slideshow": {
     "slide_type": "subslide"
    }
   },
   "source": [
    "## Problem Model\n",
    "\n",
    "**We will approximate the $P(Y \\mid X)$ via a parameterized function $\\hat{f}(y, x; \\theta)$**\n",
    "\n",
    "...Which we can train via Maximum Likelihood Estimation\n",
    "\n",
    "* Given a training dataset $\\{x_i, y_i\\}_{i=1}^m$, we solve:\n",
    "\n",
    "$$\\mathop{\\rm argmax}_{\\theta} \\prod_{i=1}^m \\sum_{j=1}^n [\\![ y_i = c_j]\\!] \\hat{f}(c_j, x; \\theta)$$\n",
    "\n",
    "* Where $[\\![ y_i = c_j]\\!] = 1$ iff $y_i = c_j$\n",
    "* ...And $\\hat{f}(c_j, x; \\theta)$ is the estimate probability of value $c_j$"
   ]
  },
  {
   "cell_type": "markdown",
   "metadata": {},
   "source": [
    "**From the probability estimator, we can obtain a classifier**\n",
    "\n",
    "* We simply look for the value (i.e. the class) in $\\{c_1, \\ldots c_n\\}$\n",
    "* ...That is associated to the largest probability"
   ]
  },
  {
   "cell_type": "markdown",
   "metadata": {
    "slideshow": {
     "slide_type": "subslide"
    }
   },
   "source": [
    "## Neural Network Classifiers\n",
    "\n",
    "**We will rely on a Neural Network for our approximate model**\n",
    "\n",
    "NNs that are used for classification have a typical structure\n",
    "\n",
    "<center><img src=\"assets/ann.png\" width=50%></center>\n",
    "\n",
    "* Their output layer has one neuron for each possible class\n",
    "* ...And it uses a [softmax](https://en.wikipedia.org/wiki/Softmax_function) activation function to ensure the output sum up to 1\n",
    "\n",
    "**By doing this, the output can be interpreted a discrete probability distribution**"
   ]
  },
  {
   "cell_type": "markdown",
   "metadata": {
    "slideshow": {
     "slide_type": "subslide"
    }
   },
   "source": [
    "## Preprocessing\n",
    "\n",
    "**Before we can start training we need to do some preprocessing**\n",
    "\n",
    "We will apply a _min-max encoding to the input_\n",
    "\n",
    "* ...Since there is clear minimum and maximum for each pixel"
   ]
  },
  {
   "cell_type": "code",
   "execution_count": 28,
   "metadata": {},
   "outputs": [],
   "source": [
    "x_train_norm = x_train / 255.0\n",
    "x_test_norm = x_test / 255.0"
   ]
  },
  {
   "cell_type": "markdown",
   "metadata": {},
   "source": [
    "We will adopt a _one-hot encoding for the output_\n",
    "\n",
    "* ...Since we will need to build a network with one neuron per class"
   ]
  },
  {
   "cell_type": "code",
   "execution_count": 29,
   "metadata": {},
   "outputs": [
    {
     "data": {
      "text/plain": [
       "array([[0., 0., 0., 0., 0., 1., 0., 0., 0., 0.],\n",
       "       [1., 0., 0., 0., 0., 0., 0., 0., 0., 0.]], dtype=float32)"
      ]
     },
     "execution_count": 29,
     "metadata": {},
     "output_type": "execute_result"
    }
   ],
   "source": [
    "y_train_cat = keras.utils.to_categorical(y_train)\n",
    "y_test_cat = keras.utils.to_categorical(y_test)\n",
    "y_train_cat[:2, :]"
   ]
  },
  {
   "cell_type": "markdown",
   "metadata": {
    "slideshow": {
     "slide_type": "subslide"
    }
   },
   "source": [
    "## Adding Channel Information\n",
    "\n",
    "**When working with image data, one extra step is needed**\n",
    "\n",
    "...Since images are not necessarily greyscale!\n",
    "\n",
    "* Greyscale images can be represented as matrices\n",
    "* ...But color images have a value of red, green, and blue for each pixel!\n",
    "\n",
    "For this reason, an image is best described by a _tensor_ not a matrix\n",
    "\n",
    "**Even if we have a single channel, it will be best to convert each input to a tensor**"
   ]
  },
  {
   "cell_type": "code",
   "execution_count": 31,
   "metadata": {},
   "outputs": [
    {
     "name": "stdout",
     "output_type": "stream",
     "text": [
      "New shape of the training set: (60000, 28, 28, 1)\n"
     ]
    }
   ],
   "source": [
    "x_train_c = x_train_norm.reshape(-1, x_h, x_w, 1)\n",
    "x_test_c = x_test_norm.reshape(-1, x_h, x_w, 1)\n",
    "input_shape = (x_h, x_w, 1)\n",
    "output_shape = (10,)\n",
    "print(f'New shape of the training set: {x_train_c.shape}')"
   ]
  },
  {
   "cell_type": "markdown",
   "metadata": {
    "slideshow": {
     "slide_type": "subslide"
    }
   },
   "source": [
    "## Training a Baseline Model\n",
    "\n",
    "**As a baseline, we will build an MLP model**\n",
    "\n",
    "We will have a look at the code, without going much into detail\n",
    "\n",
    "```python\n",
    "def build_mlp(input_shape, output_shape, hidden, rate=0.05):\n",
    "    mdl = keras.Sequential()\n",
    "    mdl.add(keras.Input(shape=input_shape))\n",
    "    mdl.add(keras.layers.Flatten())\n",
    "    for k, h in enumerate(hidden):\n",
    "        mdl.add(Dense(h, activation='relu'))\n",
    "        mdl.add(keras.layers.Dropout(rate))\n",
    "    mdl.add(Dense(output_shape[0], activation='softmax'))\n",
    "    return mdl\n",
    "```"
   ]
  },
  {
   "cell_type": "markdown",
   "metadata": {},
   "source": [
    "...Even if a classical MLP is not designed to handle images\n",
    "\n",
    "* For this reason we'll start with a special `Flatten` layer\n",
    "* Notice the use of a softmax in the output layer"
   ]
  },
  {
   "cell_type": "markdown",
   "metadata": {
    "slideshow": {
     "slide_type": "subslide"
    }
   },
   "source": [
    "## Training a Baseline Model\n",
    "\n",
    "**We can now train a 2-layer network as a baseline**"
   ]
  },
  {
   "cell_type": "code",
   "execution_count": 40,
   "metadata": {
    "scrolled": true
   },
   "outputs": [
    {
     "name": "stdout",
     "output_type": "stream",
     "text": [
      "Epoch 1/30\n",
      "1875/1875 [==============================] - 2s 862us/step - loss: 0.6205\n",
      "Epoch 2/30\n",
      "1875/1875 [==============================] - 2s 847us/step - loss: 0.3441\n",
      "Epoch 3/30\n",
      "1875/1875 [==============================] - 2s 864us/step - loss: 0.3011\n",
      "Epoch 4/30\n",
      "1875/1875 [==============================] - 2s 846us/step - loss: 0.2778\n",
      "Epoch 5/30\n",
      "1875/1875 [==============================] - 2s 857us/step - loss: 0.2615\n",
      "Epoch 6/30\n",
      "1875/1875 [==============================] - 2s 852us/step - loss: 0.2521\n",
      "Epoch 7/30\n",
      "1875/1875 [==============================] - 2s 848us/step - loss: 0.2393\n",
      "Epoch 8/30\n",
      "1875/1875 [==============================] - 2s 844us/step - loss: 0.2341\n",
      "Epoch 9/30\n",
      "1875/1875 [==============================] - 2s 860us/step - loss: 0.2274\n",
      "Epoch 10/30\n",
      "1875/1875 [==============================] - 2s 894us/step - loss: 0.2214\n",
      "Epoch 11/30\n",
      "1875/1875 [==============================] - 2s 913us/step - loss: 0.2149\n",
      "Epoch 12/30\n",
      "1875/1875 [==============================] - 2s 858us/step - loss: 0.2113\n",
      "Epoch 13/30\n",
      "1875/1875 [==============================] - 2s 860us/step - loss: 0.2073\n",
      "Epoch 14/30\n",
      "1875/1875 [==============================] - 2s 863us/step - loss: 0.2053\n",
      "Epoch 15/30\n",
      "1875/1875 [==============================] - 2s 866us/step - loss: 0.2013\n",
      "Epoch 16/30\n",
      "1875/1875 [==============================] - 2s 853us/step - loss: 0.1965\n",
      "Epoch 17/30\n",
      "1875/1875 [==============================] - 2s 859us/step - loss: 0.1965\n",
      "Epoch 18/30\n",
      "1875/1875 [==============================] - 2s 851us/step - loss: 0.1897\n",
      "Epoch 19/30\n",
      "1875/1875 [==============================] - 2s 850us/step - loss: 0.1874\n",
      "Epoch 20/30\n",
      "1875/1875 [==============================] - 2s 861us/step - loss: 0.1883\n",
      "Epoch 21/30\n",
      "1875/1875 [==============================] - 2s 849us/step - loss: 0.1872\n",
      "Epoch 22/30\n",
      "1875/1875 [==============================] - 2s 873us/step - loss: 0.1849\n",
      "Epoch 23/30\n",
      "1875/1875 [==============================] - 2s 876us/step - loss: 0.1836\n",
      "Epoch 24/30\n",
      "1875/1875 [==============================] - 2s 843us/step - loss: 0.1795\n",
      "Epoch 25/30\n",
      "1875/1875 [==============================] - 2s 854us/step - loss: 0.1796\n",
      "Epoch 26/30\n",
      "1875/1875 [==============================] - 2s 878us/step - loss: 0.1793\n",
      "Epoch 27/30\n",
      "1875/1875 [==============================] - 2s 891us/step - loss: 0.1783\n",
      "Epoch 28/30\n",
      "1875/1875 [==============================] - 2s 932us/step - loss: 0.1730\n",
      "Epoch 29/30\n",
      "1875/1875 [==============================] - 2s 879us/step - loss: 0.1749\n",
      "Epoch 30/30\n",
      "1875/1875 [==============================] - 2s 862us/step - loss: 0.1721\n"
     ]
    }
   ],
   "source": [
    "nn1 = util.build_mlp(input_shape, output_shape, hidden=[16, 16])\n",
    "history = util.train_nn(nn1, x_train_c, y_train_cat, batch_size=32, epochs=30, verbose=1)"
   ]
  },
  {
   "cell_type": "markdown",
   "metadata": {
    "slideshow": {
     "slide_type": "subslide"
    }
   },
   "source": [
    "## Training a Baseline Model\n",
    "\n",
    "**Let's inspect the training curve**"
   ]
  },
  {
   "cell_type": "code",
   "execution_count": 41,
   "metadata": {},
   "outputs": [
    {
     "data": {
      "image/png": "[encoded data removed]",
      "text/plain": [
       "<Figure size 1600x420 with 1 Axes>"
      ]
     },
     "metadata": {},
     "output_type": "display_data"
    },
    {
     "name": "stdout",
     "output_type": "stream",
     "text": [
      "Final loss: 0.1721 (training)\n"
     ]
    }
   ],
   "source": [
    "util.plot_training_history(history, figsize=figsize)"
   ]
  },
  {
   "cell_type": "markdown",
   "metadata": {},
   "source": [
    "There's still something to go before convergence, but we'll stop here"
   ]
  },
  {
   "cell_type": "markdown",
   "metadata": {
    "slideshow": {
     "slide_type": "subslide"
    }
   },
   "source": [
    "## Evaluation\n",
    "\n",
    "**Now we can compute the model accuracy**"
   ]
  },
  {
   "cell_type": "code",
   "execution_count": 45,
   "metadata": {},
   "outputs": [
    {
     "name": "stdout",
     "output_type": "stream",
     "text": [
      "2-layer network accuracy: 0.968 (train), 0.952 (test)\n"
     ]
    }
   ],
   "source": [
    "nn1_p_tr = nn1.predict(x_train_c, verbose=0).argmax(axis=1)\n",
    "nn1_p_ts = nn1.predict(x_test_c, verbose=0).argmax(axis=1)\n",
    "\n",
    "nn1_acc_tr = accuracy_score(y_train, nn1_p_tr)\n",
    "nn1_acc_ts = accuracy_score(y_test, nn1_p_ts)\n",
    "\n",
    "print(f'2-layer network accuracy: {nn1_acc_tr:.3f} (train), {nn1_acc_ts:.3f} (test)')"
   ]
  },
  {
   "cell_type": "markdown",
   "metadata": {},
   "source": [
    "We are doing already pretty well!\n",
    "\n",
    "> **What can we do to improve the results?**<br>Beyond \"stacking more layers\" the answer is not clear"
   ]
  },
  {
   "cell_type": "markdown",
   "metadata": {
    "slideshow": {
     "slide_type": "slide"
    }
   },
   "source": [
    "# Digit Recognition\n",
    "\n",
    "### Convolutional Neural Networks"
   ]
  },
  {
   "cell_type": "markdown",
   "metadata": {
    "slideshow": {
     "slide_type": "subslide"
    }
   },
   "source": [
    "## Exploiting Structural Information\n",
    "\n",
    "**DNs are very flexible learning models**\n",
    "\n",
    "* ...Since we can choose both how many layer to use\n",
    "* ...And how big they should be\n",
    "\n",
    "**However, it's difficult to develop an intuition of which options work**\n",
    "\n",
    "* This is due to the poor interpretability of DNs\n",
    "* ...To the point that a [fully fledged research field](https://en.wikipedia.org/wiki/Automated_machine_learning) focuses on automatic tuning\n",
    "\n",
    "**There is one type of choice that is intuitive and has a big impact**\n",
    "\n",
    "...This concerns the idea of exploiting structural information\n",
    "\n",
    "* For example, nearby pixels in an image may be semantically linked\n",
    "* ...And the same goes for nearby points in time\n",
    "* ...Or nearby words in a sentence"
   ]
  },
  {
   "cell_type": "markdown",
   "metadata": {
    "slideshow": {
     "slide_type": "subslide"
    }
   },
   "source": [
    "## Convolutional Layers\n",
    "\n",
    "**This idea is at the basis of _convolutional layers_**\n",
    "\n",
    "A 2D convolution layer...\n",
    "\n",
    "* Starts from an input tensor with shape $(m, n, c)$\n",
    "* ...And slides a linear $n_f, m_f$ filter (or kernel) on top of the image, with a certain step size (stride)\n",
    "\n",
    "<center>\n",
    "<img src=\"assets/pooling.png\" width=50%/>\n",
    "</center>\n",
    "\n",
    "* You can think of that as moving an $n_f, m_f$ mask across an image\n",
    "* The figure shows a 2x2 convolution with stride 2"
   ]
  },
  {
   "cell_type": "markdown",
   "metadata": {
    "slideshow": {
     "slide_type": "subslide"
    }
   },
   "source": [
    "## Convolutional Layers\n",
    "\n",
    "**Each application of the kernel...**\n",
    "\n",
    "* Computes a dot product (involving all channels) to obtain a scalar\n",
    "* ...The optionally applies an activation function\n",
    "\n",
    "Here we see the effect along 1 dimension:\n",
    "\n",
    "<center>\n",
    "<img src=\"assets/convstack0.png\" width=60%/>\n",
    "</center>\n",
    "\n",
    "**Therefore, by applying a 2D convolution to an input tensor**\n",
    "\n",
    "...We get a slightly smaller output tensor (like smaller image)\n",
    "\n",
    "* Every kernel we apply builds a new \"channel\" in the output"
   ]
  },
  {
   "cell_type": "markdown",
   "metadata": {
    "slideshow": {
     "slide_type": "subslide"
    }
   },
   "source": [
    "## Convolutional Layers\n",
    "\n",
    "**Convolutional layers have some interesting properties**\n",
    "\n",
    "Their weights are associated _only to the filter_\n",
    "\n",
    "* So, all applications of the filter/kernel use the same weights\n",
    "* ...And the number weights does not depend on the input size\n",
    "\n",
    "This allows a _huge_ reduction in terms of number of weights"
   ]
  },
  {
   "cell_type": "markdown",
   "metadata": {},
   "source": [
    "**Of course the model will be _less expressive_**\n",
    "\n",
    "...But still capable of laerning useful relations!\n",
    "\n",
    "* Intuitively, filters will learn to recognize _local features_\n",
    "* Earlier convolutions will focus on fine-grain details\n",
    "* ...While later convolution will aggregate them\n",
    "\n",
    "**This property allows CNN to work very well on image data** "
   ]
  },
  {
   "cell_type": "markdown",
   "metadata": {
    "slideshow": {
     "slide_type": "subslide"
    }
   },
   "source": [
    "## CNNs in Keras\n",
    "\n",
    "**We'll glance again at the code to build a Convolutional NN (in Tensorflow/Keras)**\n",
    "\n",
    "```python\n",
    "def build_cnn(input_shape, output_shape, hidden, convs, rate=0.05):\n",
    "    mdl = keras.Sequential()\n",
    "    mdl.add(keras.Input(shape=input_shape))\n",
    "    for nf in convs:\n",
    "        mdl.add(Conv2D(nf, kernel_size=(3,3), activation='relu'))\n",
    "    mdl.add(keras.layers.Flatten())\n",
    "    for h in hidden:\n",
    "        mdl.add(Dense(h, activation='relu'))\n",
    "        mdl.add(keras.layers.Dropout(rate))\n",
    "    mdl.add(Dense(output_shape[0], activation='softmax'))\n",
    "    return mdl\n",
    "```\n",
    "\n",
    "* We start by building the convolutions layer\n",
    "* ...Then we add some fully connected layers\n",
    "* ...And we finish with an output layer using a softmax activation"
   ]
  },
  {
   "cell_type": "markdown",
   "metadata": {
    "slideshow": {
     "slide_type": "subslide"
    }
   },
   "source": [
    "## Training a CNN\n",
    "\n",
    "**CNNs can be trained as usual, but the process is much slower**\n",
    "\n",
    "...Since even with few weights, we still need to do a lot of computations\n",
    "\n",
    "* Using GPUs can considerably accelerate this step"
   ]
  },
  {
   "cell_type": "code",
   "execution_count": 46,
   "metadata": {
    "scrolled": true
   },
   "outputs": [
    {
     "name": "stdout",
     "output_type": "stream",
     "text": [
      "Epoch 1/30\n",
      "1875/1875 [==============================] - 5s 3ms/step - loss: 0.2761\n",
      "Epoch 2/30\n",
      "1875/1875 [==============================] - 5s 3ms/step - loss: 0.1133\n",
      "Epoch 3/30\n",
      "1875/1875 [==============================] - 5s 3ms/step - loss: 0.0889\n",
      "Epoch 4/30\n",
      "1875/1875 [==============================] - 5s 3ms/step - loss: 0.0750\n",
      "Epoch 5/30\n",
      "1875/1875 [==============================] - 5s 3ms/step - loss: 0.0653\n",
      "Epoch 6/30\n",
      "1875/1875 [==============================] - 5s 3ms/step - loss: 0.0566\n",
      "Epoch 7/30\n",
      "1875/1875 [==============================] - 5s 3ms/step - loss: 0.0500\n",
      "Epoch 8/30\n",
      "1875/1875 [==============================] - 5s 3ms/step - loss: 0.0441\n",
      "Epoch 9/30\n",
      "1875/1875 [==============================] - 5s 3ms/step - loss: 0.0400\n",
      "Epoch 10/30\n",
      "1875/1875 [==============================] - 5s 3ms/step - loss: 0.0344\n",
      "Epoch 11/30\n",
      "1875/1875 [==============================] - 5s 3ms/step - loss: 0.0320\n",
      "Epoch 12/30\n",
      "1875/1875 [==============================] - 5s 3ms/step - loss: 0.0278\n",
      "Epoch 13/30\n",
      "1875/1875 [==============================] - 5s 3ms/step - loss: 0.0274\n",
      "Epoch 14/30\n",
      "1875/1875 [==============================] - 5s 3ms/step - loss: 0.0231\n",
      "Epoch 15/30\n",
      "1875/1875 [==============================] - 5s 3ms/step - loss: 0.0219\n",
      "Epoch 16/30\n",
      "1875/1875 [==============================] - 5s 3ms/step - loss: 0.0206\n",
      "Epoch 17/30\n",
      "1875/1875 [==============================] - 5s 3ms/step - loss: 0.0218\n",
      "Epoch 18/30\n",
      "1875/1875 [==============================] - 5s 3ms/step - loss: 0.0198\n",
      "Epoch 19/30\n",
      "1875/1875 [==============================] - 5s 3ms/step - loss: 0.0171\n",
      "Epoch 20/30\n",
      "1875/1875 [==============================] - 5s 3ms/step - loss: 0.0178\n",
      "Epoch 21/30\n",
      "1875/1875 [==============================] - 5s 3ms/step - loss: 0.0175\n",
      "Epoch 22/30\n",
      "1875/1875 [==============================] - 5s 3ms/step - loss: 0.0177\n",
      "Epoch 23/30\n",
      "1875/1875 [==============================] - 5s 3ms/step - loss: 0.0157\n",
      "Epoch 24/30\n",
      "1875/1875 [==============================] - 5s 3ms/step - loss: 0.0169\n",
      "Epoch 25/30\n",
      "1875/1875 [==============================] - 5s 3ms/step - loss: 0.0152\n",
      "Epoch 26/30\n",
      "1875/1875 [==============================] - 5s 3ms/step - loss: 0.0146\n",
      "Epoch 27/30\n",
      "1875/1875 [==============================] - 6s 3ms/step - loss: 0.0147\n",
      "Epoch 28/30\n",
      "1875/1875 [==============================] - 5s 3ms/step - loss: 0.0120\n",
      "Epoch 29/30\n",
      "1875/1875 [==============================] - 5s 3ms/step - loss: 0.0144\n",
      "Epoch 30/30\n",
      "1875/1875 [==============================] - 5s 3ms/step - loss: 0.0130\n"
     ]
    }
   ],
   "source": [
    "cnn1 = util.build_cnn(input_shape, output_shape, hidden=[16], convs=[16])\n",
    "history2 = util.train_nn(cnn1, x_train_c, y_train_cat, batch_size=32, epochs=30, verbose=1)"
   ]
  },
  {
   "cell_type": "markdown",
   "metadata": {
    "slideshow": {
     "slide_type": "subslide"
    }
   },
   "source": [
    "## Training a CNN\n",
    "\n",
    "**Let's check the training curve**"
   ]
  },
  {
   "cell_type": "code",
   "execution_count": 48,
   "metadata": {},
   "outputs": [
    {
     "data": {
      "image/png": "[encoded data removed]",
      "text/plain": [
       "<Figure size 1600x420 with 1 Axes>"
      ]
     },
     "metadata": {},
     "output_type": "display_data"
    },
    {
     "name": "stdout",
     "output_type": "stream",
     "text": [
      "Final loss: 0.0130 (training)\n"
     ]
    }
   ],
   "source": [
    "util.plot_training_history(history2, figsize=figsize)"
   ]
  },
  {
   "cell_type": "markdown",
   "metadata": {},
   "source": [
    "Again, there is still some way to go, but we'll stop here for a fair comparison"
   ]
  },
  {
   "cell_type": "markdown",
   "metadata": {
    "slideshow": {
     "slide_type": "subslide"
    }
   },
   "source": [
    "## Quality Evaluation"
   ]
  },
  {
   "cell_type": "code",
   "execution_count": 49,
   "metadata": {},
   "outputs": [
    {
     "name": "stdout",
     "output_type": "stream",
     "text": [
      "Shallow network accuracy: 0.968 (train), 0.952 (test)\n",
      "Convolutional network accuracy: 0.999 (train), 0.980 (test)\n"
     ]
    }
   ],
   "source": [
    "cnn1_p_tr = cnn1.predict(x_train_c, verbose=0).argmax(axis=1)\n",
    "cnn1_p_ts = cnn1.predict(x_test_c, verbose=0).argmax(axis=1)\n",
    "\n",
    "cnn1_acc_tr = accuracy_score(y_train, cnn1_p_tr)\n",
    "cnn1_acc_ts = accuracy_score(y_test, cnn1_p_ts)\n",
    "\n",
    "print(f'Shallow network accuracy: {nn1_acc_tr:.3f} (train), {nn1_acc_ts:.3f} (test)')\n",
    "print(f'Convolutional network accuracy: {cnn1_acc_tr:.3f} (train), {cnn1_acc_ts:.3f} (test)')"
   ]
  },
  {
   "cell_type": "markdown",
   "metadata": {},
   "source": [
    "The results are much better!\n",
    "\n",
    "* Even if the CNN has much fewer weights than the fully connected one\n",
    "* ...And the same number of hidden layers\n",
    "\n",
    "**Exploiting structural information is a powerful idea in DL**"
   ]
  }
 ],
 "metadata": {
  "celltoolbar": "Slideshow",
  "kernelspec": {
   "display_name": "Python 3 (ipykernel)",
   "language": "python",
   "name": "python3"
  },
  "language_info": {
   "codemirror_mode": {
    "name": "ipython",
    "version": 3
   },
   "file_extension": ".py",
   "mimetype": "text/x-python",
   "name": "python",
   "nbconvert_exporter": "python",
   "pygments_lexer": "ipython3",
   "version": "3.11.7"
  },
  "rise": {
   "center": false,
   "transition": "fade"
  }
 },
 "nbformat": 4,
 "nbformat_minor": 4
}
