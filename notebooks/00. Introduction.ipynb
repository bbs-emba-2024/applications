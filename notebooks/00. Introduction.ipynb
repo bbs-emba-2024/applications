{
 "cells": [
  {
   "cell_type": "markdown",
   "metadata": {
    "slideshow": {
     "slide_type": "slide"
    }
   },
   "source": [
    "# AI & Data Science\n",
    "\n",
    "### Applications of Artificial Intelligence"
   ]
  },
  {
   "cell_type": "markdown",
   "metadata": {
    "slideshow": {
     "slide_type": "subslide"
    }
   },
   "source": [
    "<center>\n",
    "<span style=\"font-size:1.5em\"><br><br>This lecture material is available at:</span>\n",
    "<img src=\"assets/code_location.png\" width=25%>\n",
    "<span style=\"font-size:1.5em\"><a href=\"https://github.com/bbs-emba-2024/applications\">https://github.com/bbs-emba-2024/applications</a></span>\n",
    "</center>"
   ]
  },
  {
   "cell_type": "markdown",
   "metadata": {
    "slideshow": {
     "slide_type": "subslide"
    }
   },
   "source": [
    "## About this Part of the Course\n",
    "\n",
    "**The AI & Data Science course is split into two (overlapped) parts**\n",
    "\n",
    "* Theoretical lectures, given by prof. Michela Milano\n",
    "* Application examples, discussed with prof. Michele Lombardi\n",
    "\n",
    "We are about to start _the second part_"
   ]
  },
  {
   "cell_type": "markdown",
   "metadata": {},
   "source": [
    "**What are we going to do in this second part**\n",
    "\n",
    "* We will see _simple examples of industrial use cases_ that can be solved with AI \n",
    "* We will _discuss and analyze_ them together\n",
    "* We will _formalize_ them using mathematical notation\n",
    "\n",
    "...And we will attempt to do the same for use case _proposed by you_"
   ]
  },
  {
   "cell_type": "markdown",
   "metadata": {
    "slideshow": {
     "slide_type": "subslide"
    }
   },
   "source": [
    "<div class=big>\n",
    "<small>But first, let's setup the stage with two questions:</small><br>\n",
    "What do we mean by \"industry\"?<br>\n",
    "...And what can AI for an industrial process?\n",
    "</div>"
   ]
  },
  {
   "cell_type": "markdown",
   "metadata": {
    "slideshow": {
     "slide_type": "subslide"
    }
   },
   "source": [
    "## Industry\n",
    "\n",
    "**This is industry**\n",
    "\n",
    "<center><img src=\"assets/BN-SA653_BUYAME_GR_20170209110043.jpg\" width=\"60%\"/></center>"
   ]
  },
  {
   "cell_type": "markdown",
   "metadata": {
    "slideshow": {
     "slide_type": "subslide"
    }
   },
   "source": [
    "## Industry\n",
    "\n",
    "**This is also industry**\n",
    "\n",
    "<center><img src=\"assets/transports.jpg\" width=70%/></center>"
   ]
  },
  {
   "cell_type": "markdown",
   "metadata": {
    "slideshow": {
     "slide_type": "subslide"
    }
   },
   "source": [
    "## Industry\n",
    "\n",
    "**This is also industry**\n",
    "\n",
    "<center><img src=\"assets/res.jpg\" width=70%/></center>"
   ]
  },
  {
   "cell_type": "markdown",
   "metadata": {
    "slideshow": {
     "slide_type": "subslide"
    }
   },
   "source": [
    "## Industry\n",
    "\n",
    "**This is also industry**\n",
    "\n",
    "<center><img src=\"assets/hospital.jpg\" width=70%/></center>"
   ]
  },
  {
   "cell_type": "markdown",
   "metadata": {
    "slideshow": {
     "slide_type": "subslide"
    }
   },
   "source": [
    "## Industry\n",
    "\n",
    "> **We'll define \"industry\" as any activity that can generate _value_**"
   ]
  },
  {
   "cell_type": "markdown",
   "metadata": {},
   "source": [
    "**Therefore we'll talk about industry in _very broad sense_**\n",
    "\n",
    "* Manufacturing, logistics, automation, energy systems, automation\n",
    "* ...But also product design, healthcare, policy-making...\n",
    "\n",
    "**...And AI can help an industrial process to provide _more value_**\n",
    "\n",
    "* Whatever we our idea of \"value\" is (money, societal benefits, sustainability...)\n",
    "\n",
    "> **But how?**"
   ]
  },
  {
   "cell_type": "markdown",
   "metadata": {
    "slideshow": {
     "slide_type": "subslide"
    }
   },
   "source": [
    "## How So?\n",
    "\n",
    "**Right now, the discussion on AI is often very polarized**\n",
    "\n",
    "<center><img src=\"assets/polarized.png\" width=65%></center>"
   ]
  },
  {
   "cell_type": "markdown",
   "metadata": {
    "slideshow": {
     "slide_type": "fragment"
    }
   },
   "source": [
    "So, let's make it more grounded"
   ]
  },
  {
   "cell_type": "markdown",
   "metadata": {
    "slideshow": {
     "slide_type": "subslide"
    }
   },
   "source": [
    "## Business Analytics\n",
    "\n",
    "**You have surely seen something like this in the first course part:**\n",
    "\n",
    "<center><img src=\"assets/ba_ascendancy.jpg\" width=\"70%\"/></center>"
   ]
  },
  {
   "cell_type": "markdown",
   "metadata": {
    "slideshow": {
     "slide_type": "subslide"
    }
   },
   "source": [
    "## Business Analytics\n",
    "\n",
    "**In terms of how far we push automation:**\n",
    "\n",
    "<center><img src=\"assets/framework_092013.gif\" width=\"70%\"/></center>"
   ]
  },
  {
   "cell_type": "markdown",
   "metadata": {
    "slideshow": {
     "slide_type": "subslide"
    }
   },
   "source": [
    "## Order and Chaos\n",
    "\n",
    "**BA is a nice framework to characterize what AI can do for a business**\n",
    "\n",
    "...But the truth is more like this!\n",
    "\n",
    "<center><img src=\"assets/mess.jpg\" width=\"50%\"/></center>"
   ]
  },
  {
   "cell_type": "markdown",
   "metadata": {
    "slideshow": {
     "slide_type": "subslide"
    }
   },
   "source": [
    "## Order and Chaos\n",
    "\n",
    "**Industrial applications are _complicated_**\n",
    "\n",
    "* The problems are not well defined\n",
    "* Similar techniques may be applied in multiple settings\n",
    "* Classical tasks form typically only part of the whole problem\n",
    "* It is often necessary to combine problems/techniques\n",
    "* ..."
   ]
  },
  {
   "cell_type": "markdown",
   "metadata": {
    "slideshow": {
     "slide_type": "fragment"
    }
   },
   "source": [
    "> A common opinion: <br>**Just come up with a quick solution**<br>...we'll work on fixing it later"
   ]
  },
  {
   "cell_type": "markdown",
   "metadata": {
    "slideshow": {
     "slide_type": "subslide"
    }
   },
   "source": [
    "## Order and Chaos\n",
    "\n",
    "**...But this is _evil_!**\n",
    "\n",
    "<center><img src=\"assets/palpatine.jpg\" width=\"70%\"/></center>"
   ]
  },
  {
   "cell_type": "markdown",
   "metadata": {
    "slideshow": {
     "slide_type": "subslide"
    }
   },
   "source": [
    "## Order and Chaos\n",
    "\n",
    "**Specifically, it reaches a _plateau_ real quick:**\n",
    "\n",
    "Someteims, you solve your problem and you do it fast. But more often:\n",
    "\n",
    "- You fail, and you don't understand why\n",
    "- You end up with a much messier solution than needed\n",
    "- You approach works in controlled conditions, but not in the field"
   ]
  },
  {
   "cell_type": "markdown",
   "metadata": {
    "slideshow": {
     "slide_type": "fragment"
    }
   },
   "source": [
    "**Our goal will be to bring _(some) order_ to the chaos**\n",
    "\n",
    "* We will learn by _example_, and emphasize _analysis_ and _formalization_\n",
    "* We'll cover code and techniques, but never in detail\n",
    "* ...Since you can contact full-time AI experts for that"
   ]
  },
  {
   "cell_type": "markdown",
   "metadata": {
    "slideshow": {
     "slide_type": "subslide"
    }
   },
   "source": [
    "## About the Teacher\n",
    "\n",
    "**Here's some information on the teacher for the 2nd part of the course**\n",
    "\n",
    "* name: Michele Lombardi\n",
    "* email: [michele.lombardi2@unibo.it](mailto:michele.lombardi2@unibo.it)\n",
    "* You also book a Teams call via this booking page:\n",
    "\n",
    "<center>\n",
    "<img src=\"assets/office_hours.png\" width=25%>\n",
    "<a href=\"https://book.morgen.so/michelelombardi03/student-hours\">https://book.morgen.so/michelelombardi03/student-hours</a>\n",
    "</center>"
   ]
  },
  {
   "cell_type": "markdown",
   "metadata": {
    "slideshow": {
     "slide_type": "subslide"
    }
   },
   "source": [
    "## About the Proposed Use Cases\n",
    "\n",
    "**We'll discuss several use cases together**\n",
    "\n",
    "...But you'll be asked to _propose some of your own_\n",
    "\n",
    "* We'll start doing this from the next lecture\n",
    "* You don't have to have a fully fleshed analysis: a starting idea is enough\n",
    "* We'll reserve time every lecture to discuss your input"
   ]
  },
  {
   "cell_type": "markdown",
   "metadata": {},
   "source": [
    "**A few things to keep in mind**\n",
    "\n",
    "* We are going to stick to a simple analysis for your use cases\n",
    "* We'll do this together, so be careful about commercially sensitive information\n",
    "* If something is left out due to time or sentiveness, we can discuss via email or a call\n",
    "\n",
    "...But please, favor the public format when possible"
   ]
  }
 ],
 "metadata": {
  "celltoolbar": "Slideshow",
  "kernelspec": {
   "display_name": "Python 3 (ipykernel)",
   "language": "python",
   "name": "python3"
  },
  "language_info": {
   "codemirror_mode": {
    "name": "ipython",
    "version": 3
   },
   "file_extension": ".py",
   "mimetype": "text/x-python",
   "name": "python",
   "nbconvert_exporter": "python",
   "pygments_lexer": "ipython3",
   "version": "3.11.7"
  },
  "rise": {
   "center": false,
   "transition": "fade"
  }
 },
 "nbformat": 4,
 "nbformat_minor": 4
}
