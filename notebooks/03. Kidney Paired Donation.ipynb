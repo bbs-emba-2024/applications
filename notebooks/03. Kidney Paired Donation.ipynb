{
 "cells": [
  {
   "cell_type": "code",
   "execution_count": 1,
   "metadata": {
    "slideshow": {
     "slide_type": "skip"
    }
   },
   "outputs": [],
   "source": [
    "# ============================================================\n",
    "# Notebook setup\n",
    "# ============================================================\n",
    "\n",
    "%load_ext autoreload\n",
    "%autoreload 2\n",
    "\n",
    "# Control figure size\n",
    "figsize=(16, 4.2)\n",
    "\n",
    "from util import util_kep as util"
   ]
  },
  {
   "cell_type": "markdown",
   "metadata": {
    "slideshow": {
     "slide_type": "slide"
    }
   },
   "source": [
    "# Kidney Paired Donation\n",
    "\n",
    "### Problem and Context"
   ]
  },
  {
   "cell_type": "markdown",
   "metadata": {
    "slideshow": {
     "slide_type": "subslide"
    }
   },
   "source": [
    "## Context\n",
    "\n",
    "**Let's consider a problem from the healthcare domain**\n",
    "\n",
    "...And in particular _kidney transplantation_ from living donors\n",
    "\n",
    "* Incompatibility issues are major bottleneck, putting lives at risk\n",
    "* ...But sometimes we are in this kind of situation:\n",
    "\n",
    "<center><img src=\"assets/paired-donation.jpg\" width=\"500px\"/></center>\n",
    "\n",
    "* There are two willing donor, with incompatible recipients\n",
    "* ...But we can perform both transplants if we make an _exchange_!"
   ]
  },
  {
   "cell_type": "markdown",
   "metadata": {
    "slideshow": {
     "slide_type": "subslide"
    }
   },
   "source": [
    "## KPD Operation\n",
    "\n",
    "**Operationally, it works as follows:**\n",
    "\n",
    "* Recipient-donor pairs enter a _kidney paired donation program_\n",
    "* Periodically, the pairs must be _matched_ so as to enable transplantation\n",
    "* ...Then all planned surgeries are performed within a short time time frame"
   ]
  },
  {
   "cell_type": "markdown",
   "metadata": {},
   "source": [
    "**We can chain together more than two pairs**\n",
    "\n",
    "* E.g. $d_A \\rightarrow r_B, d_B \\rightarrow r_C, d_C \\rightarrow r_A$"
   ]
  },
  {
   "cell_type": "markdown",
   "metadata": {},
   "source": [
    "**...But usually not too many**\n",
    "\n",
    "* Surgeries are then performed in short order\n",
    "* ...Since even one withdrawn donor causes the whole exchange to fail"
   ]
  },
  {
   "cell_type": "markdown",
   "metadata": {
    "slideshow": {
     "slide_type": "subslide"
    }
   },
   "source": [
    "## KPD Description\n",
    "\n",
    "**So, we can say the following about our requirements:**\n",
    "\n",
    "Given a set of donor-recipient pairs:\n",
    "\n",
    "* We want to select several groups of pairs\n",
    "* Every group should correspond to a viable set of exchanges\n",
    "* Groups should include at most $C$ pairs\n",
    "* No patient should be included in two groups\n",
    "* We want to perform as many transplants as possible"
   ]
  },
  {
   "cell_type": "markdown",
   "metadata": {
    "slideshow": {
     "slide_type": "fragment"
    }
   },
   "source": [
    "**Even if we have data, this is not a Machine Learning problem**\n",
    "\n",
    "* Our key concern is no estimation, or diagnosis\n",
    "* ...But rather making _optimal decisions under constraints_"
   ]
  },
  {
   "cell_type": "markdown",
   "metadata": {
    "slideshow": {
     "slide_type": "subslide"
    }
   },
   "source": [
    "## KPD Management\n",
    "\n",
    "**Managing a KPD program is _hard_**\n",
    "\n",
    "* The wait list for kidney transplats grew by [$> 44,000$ units](https://insights.unos.org/OPTN-metrics/) in 2023\n",
    "* They are not all for KPD, but the number is still large\n",
    "\n",
    "> **We cannot plan exchanges for such numbers by hand**<br>...But we could use a decision support tool"
   ]
  },
  {
   "cell_type": "markdown",
   "metadata": {
    "slideshow": {
     "slide_type": "fragment"
    }
   },
   "source": [
    "**There are AI technique that can help us doing that**\n",
    "\n",
    "* However, before we can start developing an approach\n",
    "* ...We need to find a way to model our system"
   ]
  },
  {
   "cell_type": "markdown",
   "metadata": {
    "slideshow": {
     "slide_type": "slide"
    }
   },
   "source": [
    "# Kidney Paired Donation\n",
    "\n",
    "### Problem Formalization"
   ]
  },
  {
   "cell_type": "markdown",
   "metadata": {
    "slideshow": {
     "slide_type": "subslide"
    }
   },
   "source": [
    "## What do we Need to Define?\n",
    "\n",
    "**Let's check again our requirements**\n",
    "\n",
    "Given a set of donor-recipient pairs:\n",
    "\n",
    "* We want to select several _groups of pairs_\n",
    "* Every group should correspond to _a viable set of exchanges_\n",
    "* Groups should include _at most $C$ pairs_\n",
    "* No patient should be included _in two groups_\n",
    "* We want to perform _as many transplants_ as possible"
   ]
  },
  {
   "cell_type": "markdown",
   "metadata": {},
   "source": [
    "**Most of them are relatively clear**\n",
    "\n",
    "...Except for the one about \"viable\" sets of exchanges\n",
    "\n",
    "* We'll need to formalize what we mean by that"
   ]
  },
  {
   "cell_type": "markdown",
   "metadata": {
    "slideshow": {
     "slide_type": "subslide"
    }
   },
   "source": [
    "## Compatibility Graph\n",
    "\n",
    "**The KPD entities and their relation can be represented as a graph**\n",
    "\n",
    "<center><img src=\"assets/cgraph.png\" width=\"25%\"/></center> \n",
    "\n",
    "* Recipient-donor _pairs_ $(r_i, d_i)$ in the programs can be seen as _nodes_ in a graph\n",
    "* The graph contains an _arc_ from pair $i$ to pair $j$ iff $d_i$ is _compatible_ with $r_j$\n",
    "* In the example there are four pairs\n",
    "* The donor in pair 1 is compatible with the recipient in pair 2, and so on"
   ]
  },
  {
   "cell_type": "markdown",
   "metadata": {
    "slideshow": {
     "slide_type": "subslide"
    }
   },
   "source": [
    "## Viable Exchanges as Cycles\n",
    "\n",
    "**In this representations, kidney exchanges correspond to _cycles_**\n",
    "\n",
    "<center><img src=\"assets/cgraph.png\" width=\"25%\"/></center>\n",
    "\n",
    "* For example $\\{1, 2, 3\\}$ defines a valid cycle\n",
    "* ...Corresponding to the exchange $d_1 \\rightarrow r_2, d_2 \\rightarrow r_3, d_3 \\rightarrow r_1$\n",
    "* ...And leading to 3 transplants"
   ]
  },
  {
   "cell_type": "markdown",
   "metadata": {
    "slideshow": {
     "slide_type": "subslide"
    }
   },
   "source": [
    "## A Better Problem Formulation\n",
    "\n",
    "**This is enough to refine our problem formulation**\n",
    "\n",
    "* We want to select _sets of nodes_\n",
    "* Every set should _correspond to a cycle_\n",
    "* A set can include _at most $C$ nodes_\n",
    "* No node can be _included in two sets_\n",
    "* We want to maximize the _sum of the sizes_ of the selected sets"
   ]
  },
  {
   "cell_type": "markdown",
   "metadata": {
    "slideshow": {
     "slide_type": "fragment"
    }
   },
   "source": [
    "**This information is precise enough to:**\n",
    "\n",
    "* Define a mathematical model for our decisions, constraints, and objective\n",
    "* Use an optimization tool to find an optimal solution"
   ]
  },
  {
   "cell_type": "markdown",
   "metadata": {
    "slideshow": {
     "slide_type": "slide"
    }
   },
   "source": [
    "# Kidney Paired Donation\n",
    "\n",
    "### Building a Mathematical Model"
   ]
  },
  {
   "cell_type": "markdown",
   "metadata": {
    "slideshow": {
     "slide_type": "subslide"
    }
   },
   "source": [
    "## A Guidline for Optimization Modeling\n",
    "\n",
    "**When building an optimization model:**\n",
    "\n",
    "* Start by choosing how to model the _decisions_\n",
    "* Then, consider the _constraints_ one by one\n",
    "  - Define how to model then with the chosen variables\n",
    "  - Introduce additional variable as needed\n",
    "* Then, do the same for the problem _objective_"
   ]
  },
  {
   "cell_type": "markdown",
   "metadata": {},
   "source": [
    "**During this process, it is very common to have difficulties**\n",
    "\n",
    "When that happens, try thinking about:\n",
    "\n",
    "* Alternative ways to formulte the constraints\n",
    "* ...But even more, _alternative ways_ to represent decisions"
   ]
  },
  {
   "cell_type": "markdown",
   "metadata": {
    "slideshow": {
     "slide_type": "subslide"
    }
   },
   "source": [
    "<div class=big>\n",
    "    <small>Our decision variables need to identify groups of nodes</small><br>\n",
    "    Can you think of some possible design choices?\n",
    "</div>"
   ]
  },
  {
   "cell_type": "markdown",
   "metadata": {
    "slideshow": {
     "slide_type": "subslide"
    }
   },
   "source": [
    "## Cycle Formulation\n",
    "\n",
    "**We'll use a binary $x_j$ variable for every cycle in the graph**\n",
    "\n",
    "* $x_{j} = 1$ iff the $j$-th cycle is chosen for surgery, and $0$ otherwise\n",
    "* With this notation, we only select _valid exchanges_\n",
    "\n",
    "...But what about the other constraints?\n",
    "\n",
    "**\"No node can be included in two groups\":**\n",
    "\n",
    "$$\\begin{align}\n",
    "& \\sum_{j = 1}^n a_{ij} x_{ij} \\leq 1 & \\forall i = 1..m\n",
    "\\end{align}$$\n",
    "\n",
    "* $n$ is the number of cycles, $m$ is the number of nodes\n",
    "* $a_{ij} = 1$ if node $i$ is in cycle $j$"
   ]
  },
  {
   "cell_type": "markdown",
   "metadata": {
    "slideshow": {
     "slide_type": "subslide"
    }
   },
   "source": [
    "## Cycle Formulation\n",
    "\n",
    "**\"Too large groups/cycles should not be considered\":**\n",
    "\n",
    "* We do not need an equation for this\n",
    "* ...Since we can simply _avoid building variables_ for those cycles"
   ]
  },
  {
   "cell_type": "markdown",
   "metadata": {},
   "source": [
    "**\"We want to maximize the _total number of transplants_\":**\n",
    "\n",
    "$$\\begin{align}\n",
    "\\max \\ & \\sum_{j = 1}^n w_{j} x_{ij}\n",
    "\\end{align}$$\n",
    "\n",
    "* $w_j$ is the number of transplants associated to cycle $j$\n",
    "* This is our objetive function"
   ]
  },
  {
   "cell_type": "markdown",
   "metadata": {
    "slideshow": {
     "slide_type": "subslide"
    }
   },
   "source": [
    "## Cycle Formulation\n",
    "\n",
    "**Therefore, the _cycle formulation_ consists in the Mathematical Model**\n",
    "\n",
    "$$\\begin{align}\n",
    "\\max & \\sum_{j=1}^n w_j x_j \\\\\n",
    "\\text{s.t. } & \\sum_{j=1}^n a_{ij} x_j \\leq 1 & \\forall i = 1..m \\\\\n",
    "& x_j \\in \\{0, 1\\} & \\forall j = 1..n\n",
    "\\end{align}$$\n",
    "\n",
    "**This is an example of an _Integer Linear Program_**\n",
    "\n",
    "* I.e. a mathematical model with _integer variables_\n",
    "* ...And _linear_ constraints and cost"
   ]
  },
  {
   "cell_type": "markdown",
   "metadata": {
    "slideshow": {
     "slide_type": "subslide"
    }
   },
   "source": [
    "## Declarative Optimization\n",
    "\n",
    "**ILPs are a sub-case of _Declarative Optimization_ Approaches**\n",
    "\n",
    "The main idea in declarative optimization is to:\n",
    "\n",
    "* Define a model by having and domain and optimization expert cooperate\n",
    "* Use general solution algorithm to obtain optimal solutions"
   ]
  },
  {
   "cell_type": "markdown",
   "metadata": {},
   "source": [
    "**It's not one of the AI techniques in the spotlight right now, but it can be very useful!**\n",
    "\n",
    "Just beware that several of the problems tackled by these approaches are very difficult\n",
    "\n",
    "* There may be trillions or more of possible solutions to explore\n",
    "* ...But the solution approaches are much more clever than simple enumeration\n"
   ]
  },
  {
   "cell_type": "markdown",
   "metadata": {
    "slideshow": {
     "slide_type": "slide"
    }
   },
   "source": [
    "# Kidney Paired Donation\n",
    "\n",
    "### Implementing the Cycle Formulation"
   ]
  },
  {
   "cell_type": "markdown",
   "metadata": {
    "slideshow": {
     "slide_type": "subslide"
    }
   },
   "source": [
    "## Generating the Benchmark\n",
    "\n",
    "**We will use synthetic data for this use case**\n",
    "\n",
    "In the real world, compatibility is determined by:\n",
    "\n",
    "* The blood type of the donor and the recipient\n",
    "* A number of very variable factors linked to their immune systems"
   ]
  },
  {
   "cell_type": "markdown",
   "metadata": {},
   "source": [
    "**Accordingly, the benchmark generation algorithm works by:**\n",
    "\n",
    "* Building a fixed number of pairs\n",
    "* Assigning blood types to each pair\n",
    "* Building compatibility arcs based on blood types"
   ]
  },
  {
   "cell_type": "markdown",
   "metadata": {
    "slideshow": {
     "slide_type": "subslide"
    }
   },
   "source": [
    "## Generating the Benchmark \n",
    "\n",
    "**In particular, we only focus on _incompatible_ blood types**"
   ]
  },
  {
   "cell_type": "code",
   "execution_count": 2,
   "metadata": {
    "scrolled": true
   },
   "outputs": [
    {
     "data": {
      "text/plain": [
       "{0: pair(recipient='B+', donor='A+'),\n",
       " 1: pair(recipient='B+', donor='A+'),\n",
       " 2: pair(recipient='O+', donor='B+'),\n",
       " 3: pair(recipient='A+', donor='B+'),\n",
       " 4: pair(recipient='O+', donor='A+'),\n",
       " 5: pair(recipient='O+', donor='A-'),\n",
       " 6: pair(recipient='A-', donor='O+'),\n",
       " 7: pair(recipient='A+', donor='B+'),\n",
       " 8: pair(recipient='B+', donor='A+'),\n",
       " 9: pair(recipient='O+', donor='A+'),\n",
       " 10: pair(recipient='O+', donor='A+'),\n",
       " 11: pair(recipient='A-', donor='A+')}"
      ]
     },
     "execution_count": 2,
     "metadata": {},
     "output_type": "execute_result"
    }
   ],
   "source": [
    "pairs, arcs, aplus = util.generate_compatibility_graph(size=12, seed=2)\n",
    "pairs"
   ]
  },
  {
   "cell_type": "markdown",
   "metadata": {},
   "source": [
    "* Compatible pairs would not need to go through a KPD program\n",
    "* The blood type prevalence reflects the Italian distribution\n",
    "* In the pairs, we are neglecting all other factors that impact compatibility"
   ]
  },
  {
   "cell_type": "markdown",
   "metadata": {
    "slideshow": {
     "slide_type": "subslide"
    }
   },
   "source": [
    "## Generating the Benchmark\n",
    "\n",
    "**Arcs are first determined based on blood type compatibility**\n",
    "\n",
    "...Then a small (random) fraction of them (5%) is removed"
   ]
  },
  {
   "cell_type": "code",
   "execution_count": 3,
   "metadata": {},
   "outputs": [
    {
     "data": {
      "text/plain": [
       "{0: [3, 7],\n",
       " 1: [3, 7],\n",
       " 2: [0, 1, 8],\n",
       " 3: [0, 1, 8],\n",
       " 4: [3, 7],\n",
       " 5: [3, 6, 7, 11],\n",
       " 6: [0, 1, 2, 3, 4, 5, 7, 8, 9, 10],\n",
       " 7: [0, 1, 8],\n",
       " 8: [3, 7],\n",
       " 9: [3, 7],\n",
       " 10: [3, 7],\n",
       " 11: [3, 7]}"
      ]
     },
     "execution_count": 3,
     "metadata": {},
     "output_type": "execute_result"
    }
   ],
   "source": [
    "aplus"
   ]
  },
  {
   "cell_type": "markdown",
   "metadata": {},
   "source": [
    "* This simulated the other compatibility factors\n",
    "* ...Which are therefore accounted for at the graph level"
   ]
  },
  {
   "cell_type": "markdown",
   "metadata": {
    "slideshow": {
     "slide_type": "subslide"
    }
   },
   "source": [
    "## Enumerating Cycles\n",
    "\n",
    "**Building our ILP requires to enumerate all cycles in the graph**\n",
    "\n",
    "...Up to a maximum size of $C$, that is\n",
    "\n"
   ]
  },
  {
   "cell_type": "code",
   "execution_count": 4,
   "metadata": {},
   "outputs": [
    {
     "name": "stdout",
     "output_type": "stream",
     "text": [
      "{8, 1, 3, 7}\n",
      "{0, 7}\n",
      "{8, 3}\n",
      "{0, 1, 3, 7}\n",
      "{0, 3}\n",
      "{0, 8, 3, 7}\n",
      "{8, 1, 3, 7}\n",
      "{1, 7}\n",
      "{5, 6}\n",
      "{8, 7}\n",
      "{0, 1, 3, 7}\n",
      "{1, 3}\n",
      "{0, 8, 3, 7}\n"
     ]
    }
   ],
   "source": [
    "cycles = util.find_all_cycles(aplus, max_length=4, cap=None)\n",
    "for c in cycles: print(set(c))"
   ]
  },
  {
   "cell_type": "markdown",
   "metadata": {},
   "source": [
    "Therse are the cycles for the small graph we are using now, with $C = 4$"
   ]
  },
  {
   "cell_type": "markdown",
   "metadata": {
    "slideshow": {
     "slide_type": "subslide"
    }
   },
   "source": [
    "## Cycle Formulation - Implementation\n",
    "\n",
    "**Once we have all cycles, we can build the Cycle Formulation model**\n",
    "\n",
    "* The code can be found in the `notebooks/util/util_kep.py` file\n",
    "* We are going to inspect it, just to have an idea of how these models are built"
   ]
  },
  {
   "cell_type": "markdown",
   "metadata": {},
   "source": [
    "**All the work is done by a single function:**\n",
    "\n",
    "```python\n",
    "def cycle_formulation(pairs, cycles, tlim=None, verbose=1):\n",
    "    infinity, ncycles, npairs = slv.infinity(), len(cycles), len(pairs)\n",
    "    slv = pywraplp.Solver.CreateSolver('CBC') # Build the solver\n",
    "    ...\n",
    "```\n",
    "\n",
    "* We start by building a solver object\n",
    "* We use [the CBC solver](https://github.com/coin-or/Cbc), via [Google OR-Tools](https://developers.google.com/optimization)\n",
    "* It's the fastest MIP solver with a fully permissive license"
   ]
  },
  {
   "cell_type": "markdown",
   "metadata": {
    "slideshow": {
     "slide_type": "subslide"
    }
   },
   "source": [
    "## Cycle Formulation - Implementation\n",
    "\n",
    "**Variables are built with `IntVar`, constraints posted with `Add`**\n",
    "\n",
    "```python\n",
    "def cycle_formulation(pairs, cycles, tlim=None, verbose=1):\n",
    "    ...\n",
    "    x = [slv.IntVar(0, 1, f'x_{j}') for j in range(ncycles)] # variables\n",
    "    for i in range(npairs): # constraints\n",
    "        slv.Add(sum(x[j] for j in cpp[i]) <= 1)\n",
    "    ...\n",
    "```\n",
    "\n",
    "**We set the objective with `Maximize` or `Minimize`**\n",
    "\n",
    "```python\n",
    "def cycle_formulation(pairs, cycles, tlim=None, verbose=1):\n",
    "    ...\n",
    "    slv.Maximize(sum(len(c) * x[j] for j, c in enumerate(cycles))) # objective\n",
    "    if tlim is not None: # time limit\n",
    "        slv.SetTimeLimit(1000*tlim)\n",
    "    ...\n",
    "```\n",
    "\n",
    "* Time limits are enforced with `SetTimeLimit`"
   ]
  },
  {
   "cell_type": "markdown",
   "metadata": {
    "slideshow": {
     "slide_type": "subslide"
    }
   },
   "source": [
    "## Solving the Problem\n",
    "\n",
    "**We can now solve the model to obtain a solution:**"
   ]
  },
  {
   "cell_type": "code",
   "execution_count": 5,
   "metadata": {},
   "outputs": [
    {
     "name": "stdout",
     "output_type": "stream",
     "text": [
      "Size 12, number of cycles: 13, time: 0.001 s\n",
      "Size 12, time: 0.031 s, Solution: {'x_2', 'x_1', 'x_8'}\n",
      "x_1 corresponds to: (0, 7)\n",
      "x_2 corresponds to: (3, 8)\n",
      "x_8 corresponds to: (5, 6)\n"
     ]
    }
   ],
   "source": [
    "pairs, arcs, aplus = util.generate_compatibility_graph(size=12, seed=2)\n",
    "cycles, ctime = util.find_all_cycles(aplus, max_length=4, cap=None, return_wall_time=True)\n",
    "print(f'Size 12, number of cycles: {len(cycles)}, time: {ctime:.3f} s')\n",
    "sol, stime, _ = util.cycle_formulation(pairs, cycles, tlim=10, verbose=0)\n",
    "print(f'Size 12, time: {stime:.3f} s, Solution:', {k for k, v in sol.items() if v != 0 and k != 'objective'})\n",
    "for k, v in sol.items():\n",
    "    if k != 'objective' and v > 0:\n",
    "        print(f'{k} corresponds to:', cycles[int(k.split('_')[1])])"
   ]
  },
  {
   "cell_type": "markdown",
   "metadata": {},
   "source": [
    "* Every selected variable corresponds to a cycle\n",
    "* ...And therefore to a viable set of exchanges"
   ]
  },
  {
   "cell_type": "markdown",
   "metadata": {
    "slideshow": {
     "slide_type": "subslide"
    }
   },
   "source": [
    "## Scalability\n",
    "\n",
    "**As a long as th cycle is not too large, we can get the optimal solution quickly**"
   ]
  },
  {
   "cell_type": "code",
   "execution_count": 6,
   "metadata": {},
   "outputs": [
    {
     "name": "stdout",
     "output_type": "stream",
     "text": [
      "Size 150, number of cycles: 43206, enumeration time: 6.599 s, solution time: 1.632 s\n"
     ]
    }
   ],
   "source": [
    "pairs, arcs, aplus = util.generate_compatibility_graph(size=150, seed=2)\n",
    "cycles, ctime = util.find_all_cycles(aplus, max_length=4, cap=None, return_wall_time=True)\n",
    "sol, stime, _ = util.cycle_formulation(pairs, cycles, tlim=10, verbose=0)\n",
    "print(f'Size 150, number of cycles: {len(cycles)}, enumeration time: {ctime:.3f} s, solution time: {stime:.3f} s')"
   ]
  },
  {
   "cell_type": "markdown",
   "metadata": {},
   "source": [
    "...But the complexity grows quickly with the graph size:"
   ]
  },
  {
   "cell_type": "code",
   "execution_count": 7,
   "metadata": {},
   "outputs": [
    {
     "name": "stdout",
     "output_type": "stream",
     "text": [
      "Size 200, number of cycles: 114788, enumeration time: 25.387 s, solution time: 5.954 s\n"
     ]
    }
   ],
   "source": [
    "pairs2, arcs2, aplus2 = util.generate_compatibility_graph(size=200, seed=2)\n",
    "cycles2, ctime2 = util.find_all_cycles(aplus2, max_length=4, cap=None, return_wall_time=True)\n",
    "sol2, stime2, _ = util.cycle_formulation(pairs2, cycles2, tlim=10, verbose=0)\n",
    "print(f'Size 200, number of cycles: {len(cycles2)}, enumeration time: {ctime2:.3f} s, solution time: {stime2:.3f} s')"
   ]
  },
  {
   "cell_type": "markdown",
   "metadata": {
    "slideshow": {
     "slide_type": "subslide"
    }
   },
   "source": [
    "## Improving Scalability\n",
    "\n",
    "**There are approaches that can be used to dramatically improve scalability**\n",
    "\n",
    "...They are however quite complex, so we'll just see the end result for 200- and 600-node graphs"
   ]
  },
  {
   "cell_type": "code",
   "execution_count": 8,
   "metadata": {},
   "outputs": [
    {
     "name": "stdout",
     "output_type": "stream",
     "text": [
      "Number of transplants: 74.0\n",
      "CPU times: user 784 ms, sys: 0 ns, total: 784 ms\n",
      "Wall time: 784 ms\n"
     ]
    }
   ],
   "source": [
    "%%time\n",
    "pairs3, arcs3, aplus3 = util.generate_compatibility_graph(size=200, seed=2)\n",
    "cycles_cg3, _  = util.cycle_formulation_cg(pairs3, aplus3, max_len=4, itcap=10, verbose=0)\n",
    "sol3, _, _ = util.cycle_formulation(pairs3, cycles_cg3, tlim=30, verbose=0)\n",
    "print(f'Number of transplants: {sol3[\"objective\"]}')"
   ]
  },
  {
   "cell_type": "code",
   "execution_count": 9,
   "metadata": {},
   "outputs": [
    {
     "name": "stdout",
     "output_type": "stream",
     "text": [
      "Number of transplants: 229.0\n",
      "CPU times: user 9.42 s, sys: 19.7 ms, total: 9.44 s\n",
      "Wall time: 9.46 s\n"
     ]
    }
   ],
   "source": [
    "%%time\n",
    "pairs3, arcs3, aplus3 = util.generate_compatibility_graph(size=600, seed=2)\n",
    "cycles_cg3, _  = util.cycle_formulation_cg(pairs3, aplus3, max_len=4, itcap=10, verbose=0)\n",
    "sol3, _, _ = util.cycle_formulation(pairs3, cycles_cg3, tlim=30, verbose=0)\n",
    "print(f'Number of transplants: {sol3[\"objective\"]}')"
   ]
  }
 ],
 "metadata": {
  "celltoolbar": "Slideshow",
  "kernelspec": {
   "display_name": "Python 3 (ipykernel)",
   "language": "python",
   "name": "python3"
  },
  "language_info": {
   "codemirror_mode": {
    "name": "ipython",
    "version": 3
   },
   "file_extension": ".py",
   "mimetype": "text/x-python",
   "name": "python",
   "nbconvert_exporter": "python",
   "pygments_lexer": "ipython3",
   "version": "3.11.7"
  },
  "rise": {
   "center": false,
   "enable_chalkboard": true,
   "transition": "fade"
  }
 },
 "nbformat": 4,
 "nbformat_minor": 4
}
